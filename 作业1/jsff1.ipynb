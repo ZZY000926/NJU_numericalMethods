{
 "cells": [
  {
   "cell_type": "code",
   "execution_count": 4,
   "metadata": {},
   "outputs": [
    {
     "name": "stdout",
     "output_type": "stream",
     "text": [
      "sum1 8389485.770430313\n",
      "sum3 8389485.770430703\n"
     ]
    }
   ],
   "source": [
    "from random import random\n",
    "\n",
    "nums = []\n",
    "\n",
    "n = 2 ** 24\n",
    "\n",
    "for i in range(n):\n",
    "    nums.append(random())\n",
    "\n",
    "sum1 = 0\n",
    "sum3 = nums[0]\n",
    "c = 0\n",
    "\n",
    "for num in nums:\n",
    "    sum1 += num\n",
    "    \n",
    "for i in range(1, n):\n",
    "    y = nums[i] - c\n",
    "    t = sum3 + y\n",
    "    c = (t - sum3) - y\n",
    "    sum3 = t    \n",
    "    \n",
    "print(\"sum1\", sum1)\n",
    "print(\"sum3\", sum3)"
   ]
  },
  {
   "cell_type": "code",
   "execution_count": null,
   "metadata": {},
   "outputs": [],
   "source": []
  }
 ],
 "metadata": {
  "kernelspec": {
   "display_name": "Python 3",
   "language": "python",
   "name": "python3"
  },
  "language_info": {
   "codemirror_mode": {
    "name": "ipython",
    "version": 3
   },
   "file_extension": ".py",
   "mimetype": "text/x-python",
   "name": "python",
   "nbconvert_exporter": "python",
   "pygments_lexer": "ipython3",
   "version": "3.8.5"
  }
 },
 "nbformat": 4,
 "nbformat_minor": 4
}
