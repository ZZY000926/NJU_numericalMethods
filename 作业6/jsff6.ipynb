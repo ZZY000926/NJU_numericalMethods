{
 "cells": [
  {
   "cell_type": "code",
   "execution_count": 1,
   "metadata": {},
   "outputs": [
    {
     "name": "stdout",
     "output_type": "stream",
     "text": [
      "([0.26356031971814091020, 1.4134030591065167922, 3.5964257710407220812, 7.0858100058588375569, 12.640800844275782659], [0.52175561058280865248, 0.39866681108317592745, 0.075942449681707595388, 0.0036117586799220484545, 0.000023369972385776227891])\n"
     ]
    }
   ],
   "source": [
    "from sympy import *\n",
    "\n",
    "def lag_weights_roots(n):\n",
    "    x = Symbol('x')\n",
    "    roots = Poly(laguerre(n, x)).all_roots()\n",
    "    x_i = [rt.evalf(20) for rt in roots]\n",
    "    w_i = [(rt/((n+1)*laguerre(n+1, rt))**2).evalf(20) for rt in roots]\n",
    "    return x_i, w_i\n",
    "\n",
    "# print(lag_weights_roots(5))"
   ]
  },
  {
   "cell_type": "code",
   "execution_count": 5,
   "metadata": {},
   "outputs": [],
   "source": [
    "for i in range(5, 20):\n",
    "    file_path = './nodes/'\n",
    "    if i < 10:\n",
    "        file_name = 'data0' + str(i) + '.txt'\n",
    "    else:\n",
    "        file_name = 'data' + str(i) + '.txt'\n",
    "\n",
    "    with open(file_path + file_name, 'w') as f:\n",
    "        f.write(str(lag_weights_roots(i)[0]) + '\\n')\n",
    "        f.write(str(lag_weights_roots(i)[1]))\n",
    "    "
   ]
  },
  {
   "cell_type": "code",
   "execution_count": null,
   "metadata": {},
   "outputs": [],
   "source": []
  }
 ],
 "metadata": {
  "interpreter": {
   "hash": "916dbcbb3f70747c44a77c7bcd40155683ae19c65e1c03b4aa3499c5328201f1"
  },
  "kernelspec": {
   "display_name": "Python 3.9.7 64-bit",
   "language": "python",
   "name": "python3"
  },
  "language_info": {
   "codemirror_mode": {
    "name": "ipython",
    "version": 3
   },
   "file_extension": ".py",
   "mimetype": "text/x-python",
   "name": "python",
   "nbconvert_exporter": "python",
   "pygments_lexer": "ipython3",
   "version": "3.9.7"
  },
  "orig_nbformat": 4
 },
 "nbformat": 4,
 "nbformat_minor": 2
}
