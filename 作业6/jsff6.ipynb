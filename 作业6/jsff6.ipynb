{
 "cells": [
  {
   "cell_type": "code",
   "execution_count": 1,
   "metadata": {},
   "outputs": [],
   "source": [
    "from sympy import *\n",
    "\n",
    "def lag_weights_roots(n):\n",
    "    x = Symbol('x')\n",
    "    roots = Poly(laguerre(n, x)).all_roots()\n",
    "    x_i = [rt.evalf(20) for rt in roots]\n",
    "    w_i = [(rt/((n+1)*laguerre(n+1, rt))**2).evalf(20) for rt in roots]\n",
    "    return x_i, w_i\n",
    "\n"
   ]
  },
  {
   "cell_type": "code",
   "execution_count": 15,
   "metadata": {},
   "outputs": [],
   "source": [
    "for i in range(5, 41):\n",
    "    file_path = './nodes/'\n",
    "    file_name = 'data' + str(i) + '.txt'\n",
    "\n",
    "    with open(file_path + file_name, 'w') as f:\n",
    "        for j in range(i):\n",
    "            f.write(str(lag_weights_roots(i)[0][j]) + ' ' + str(lag_weights_roots(i)[1][j]) + '\\n')\n",
    "        # f.write('\\n')\n",
    "        # for j in range(i):\n",
    "        #     f.write(str(lag_weights_roots(i)[1][j]) + ' ')\n",
    "        # f.write('0')\n",
    "    "
   ]
  },
  {
   "cell_type": "code",
   "execution_count": null,
   "metadata": {},
   "outputs": [],
   "source": []
  }
 ],
 "metadata": {
  "interpreter": {
   "hash": "d17d0059563eaaa58710c4eb9871c934210596123f9a667bcb8b1c8f61a530fa"
  },
  "kernelspec": {
   "display_name": "Python 3.9.7 64-bit ('base': conda)",
   "language": "python",
   "name": "python3"
  },
  "language_info": {
   "codemirror_mode": {
    "name": "ipython",
    "version": 3
   },
   "file_extension": ".py",
   "mimetype": "text/x-python",
   "name": "python",
   "nbconvert_exporter": "python",
   "pygments_lexer": "ipython3",
   "version": "3.9.7"
  },
  "orig_nbformat": 4
 },
 "nbformat": 4,
 "nbformat_minor": 2
}
